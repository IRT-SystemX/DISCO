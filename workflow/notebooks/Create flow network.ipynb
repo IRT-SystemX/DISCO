{
 "cells": [
  {
   "cell_type": "code",
   "execution_count": 3,
   "metadata": {},
   "outputs": [],
   "source": [
    "import osmnx\n",
    "import pandas as pd"
   ]
  },
  {
   "cell_type": "markdown",
   "metadata": {},
   "source": [
    "This notebook takes the network, aggregates the link flows for the operators and outputs a flow network in GeoPackage format that can be visualized using QGIS."
   ]
  },
  {
   "cell_type": "code",
   "execution_count": null,
   "metadata": {},
   "outputs": [],
   "source": [
    "if \"snakemake\" in locals():\n",
    "    network_path = snakemake.input[0]\n",
    "    flow_paths = snakemake.input[1:]\n",
    "    output_path = snakemake.output[0]\n",
    "else:\n",
    "    network_path = \"../../results/network/network.graphml\"\n",
    "    flow_paths = [\"../../results/operators/synthetic1/routes.parquet\"]\n",
    "    output_path = \"../../results/aggregation/flows.gpkg\""
   ]
  },
  {
   "cell_type": "code",
   "execution_count": 8,
   "metadata": {},
   "outputs": [],
   "source": [
    "# Load graph\n",
    "osmnx.io._convert_bool_string = lambda x: bool(x) if not x is None else False\n",
    "graph = osmnx.load_graphml(network_path)"
   ]
  },
  {
   "cell_type": "code",
   "execution_count": null,
   "metadata": {},
   "outputs": [],
   "source": [
    "# Convert network\n",
    "df_network = osmnx.graph_to_gdfs(graph, nodes = False, edges = True).reset_index()[[\"u\", \"v\", \"geometry\"]].rename(columns = {\n",
    "    \"u\": \"origin\", \"v\": \"destination\"\n",
    "})"
   ]
  },
  {
   "cell_type": "code",
   "execution_count": null,
   "metadata": {},
   "outputs": [],
   "source": [
    "# Load flows\n",
    "df_flow = pd.concat([\n",
    "    pd.read_parquet(path) for path in flow_paths\n",
    "]).groupby([\"origin\", \"destination\"])[\"flow\"].sum().reset_index()"
   ]
  },
  {
   "cell_type": "code",
   "execution_count": 32,
   "metadata": {},
   "outputs": [],
   "source": [
    "# Merge information\n",
    "df_flow = pd.merge(df_network, df_flow, on = [\"origin\", \"destination\"], how = \"left\")\n",
    "df_flow[\"flow\"] = df_flow[\"flow\"].fillna(0.0)"
   ]
  },
  {
   "cell_type": "code",
   "execution_count": null,
   "metadata": {},
   "outputs": [],
   "source": [
    "# Output\n",
    "df_flow[[\"flow\", \"geometry\"]].to_crs(\"EPSG:4326\").to_file(output_path)"
   ]
  }
 ],
 "metadata": {
  "kernelspec": {
   "display_name": ".venv",
   "language": "python",
   "name": "python3"
  },
  "language_info": {
   "codemirror_mode": {
    "name": "ipython",
    "version": 3
   },
   "file_extension": ".py",
   "mimetype": "text/x-python",
   "name": "python",
   "nbconvert_exporter": "python",
   "pygments_lexer": "ipython3",
   "version": "3.12.3"
  }
 },
 "nbformat": 4,
 "nbformat_minor": 2
}
