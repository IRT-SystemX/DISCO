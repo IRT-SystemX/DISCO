{
 "cells": [
  {
   "cell_type": "code",
   "execution_count": 207,
   "metadata": {},
   "outputs": [],
   "source": [
    "import geopandas as gpd\n",
    "import pandas as pd\n",
    "import numpy as np"
   ]
  },
  {
   "cell_type": "markdown",
   "metadata": {},
   "source": [
    "This notebook takes a prepared file that defines synthetic operators and generates some test data."
   ]
  },
  {
   "cell_type": "code",
   "execution_count": null,
   "metadata": {},
   "outputs": [],
   "source": [
    "seed = 0\n",
    "\n",
    "if \"snakemake\" in locals():\n",
    "    input_path = snakemake.input[0]\n",
    "    output_path = snakemake.output[0]\n",
    "    days = snakemake.params[\"days\"]\n",
    "    operator = snakemake.params[\"operator\"]\n",
    "    \n",
    "    if \"seed\" in snakemake.params:\n",
    "        seed = snakemake.params[\"seed\"]\n",
    "\n",
    "else:\n",
    "    input_path = \"../../resources/synthetic.gpkg\"\n",
    "    output_path = \"../../results/testing/operator.csv\"\n",
    "    days = 12\n",
    "    operator = \"synthetic1\""
   ]
  },
  {
   "cell_type": "code",
   "execution_count": null,
   "metadata": {},
   "outputs": [],
   "source": [
    "# Initialize RNG\n",
    "random = np.random.RandomState(seed)"
   ]
  },
  {
   "cell_type": "code",
   "execution_count": null,
   "metadata": {},
   "outputs": [],
   "source": [
    "# Load areas and depots from the GeoPackage file\n",
    "df_areas = gpd.read_file(input_path, layer = \"areas\")\n",
    "df_depots = gpd.read_file(input_path, layer = \"depots\")"
   ]
  },
  {
   "cell_type": "code",
   "execution_count": null,
   "metadata": {},
   "outputs": [],
   "source": [
    "# Obtain the information for the selected operator\n",
    "df_depot = df_depots[df_depots[\"operator\"] == operator][[\"geometry\"]]\n",
    "df_area = df_areas[df_areas[\"operator\"] == operator][[\"geometry\"]]\n",
    "\n",
    "capacity = df_areas.loc[df_areas[\"operator\"] == operator, \"capacity\"].values[0]\n",
    "vehicles = df_areas.loc[df_areas[\"operator\"] == operator, \"vehicles\"].values[0]\n",
    "step_length = df_areas.loc[df_areas[\"operator\"] == operator, \"step_length\"].values[0]"
   ]
  },
  {
   "cell_type": "code",
   "execution_count": null,
   "metadata": {},
   "outputs": [],
   "source": [
    "# Generate random vehicle trajectories\n",
    "df_output = []\n",
    "\n",
    "for day in range(1, days + 1):\n",
    "    for vehicle in range(vehicles):\n",
    "        df_vehicle = []\n",
    "\n",
    "        df_next = df_depot.copy()\n",
    "        df_vehicle.append(df_next[\"geometry\"].values[0])\n",
    "\n",
    "        for k in range(capacity):\n",
    "            df_next = df_next.buffer(step_length)\n",
    "            df_next = gpd.clip(df_area, df_next)\n",
    "\n",
    "            sample = df_next.sample_points(1, rng = random).values\n",
    "\n",
    "            if len(sample) == 0: # if depot is too far from operating area\n",
    "                sample = df_area.sample_points(1, rng = random).values\n",
    "\n",
    "            location = sample[0]\n",
    "            df_vehicle.append(location)\n",
    "            df_next[\"geometry\"] = [location]\n",
    "        \n",
    "        df_vehicle = gpd.GeoDataFrame(pd.DataFrame(dict(geometry = df_vehicle)), crs = df_area.crs)\n",
    "        df_vehicle[\"vehicle_id\"] = \"{}:{}\".format(operator, vehicle)\n",
    "        df_vehicle[\"date\"] = \"2025-01-{:02d}\".format(day)\n",
    "        df_output.append(df_vehicle)\n",
    "\n",
    "df_output = pd.concat(df_output)"
   ]
  },
  {
   "cell_type": "code",
   "execution_count": null,
   "metadata": {},
   "outputs": [],
   "source": [
    "# Convert to the requested format\n",
    "df_output = df_output.to_crs(\"EPSG:4326\")\n",
    "\n",
    "df_output[\"longitude\"] = df_output[\"geometry\"].x\n",
    "df_output[\"latitude\"] = df_output[\"geometry\"].y\n",
    "\n",
    "df_output = df_output[[\"vehicle_id\", \"date\", \"longitude\", \"latitude\"]]"
   ]
  },
  {
   "cell_type": "code",
   "execution_count": null,
   "metadata": {},
   "outputs": [],
   "source": [
    "# Output\n",
    "df_output.to_csv(output_path)"
   ]
  }
 ],
 "metadata": {
  "kernelspec": {
   "display_name": ".venv",
   "language": "python",
   "name": "python3"
  },
  "language_info": {
   "codemirror_mode": {
    "name": "ipython",
    "version": 3
   },
   "file_extension": ".py",
   "mimetype": "text/x-python",
   "name": "python",
   "nbconvert_exporter": "python",
   "pygments_lexer": "ipython3",
   "version": "3.12.3"
  }
 },
 "nbformat": 4,
 "nbformat_minor": 2
}
