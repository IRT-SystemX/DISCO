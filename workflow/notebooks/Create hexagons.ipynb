{
 "cells": [
  {
   "cell_type": "code",
   "execution_count": 32,
   "metadata": {},
   "outputs": [],
   "source": [
    "import numpy as np\n",
    "import geopandas as gpd\n",
    "import shapely.geometry as sgeo"
   ]
  },
  {
   "cell_type": "markdown",
   "metadata": {},
   "source": [
    "This notebooks creates a hexagon grid over the study area. Inspired by [this implementation](https://sabrinadchan.github.io/data-blog/building-a-hexagonal-cartogram.html)."
   ]
  },
  {
   "cell_type": "code",
   "execution_count": 33,
   "metadata": {},
   "outputs": [],
   "source": [
    "if \"snakemake\" in locals():\n",
    "    input_path = snakemake.input[0]\n",
    "    output_path = snakemake.output[0]\n",
    "    projection = snakemake.params[\"projection\"]\n",
    "    hexagon_size = snakemake.params[\"hexagon_size\"]\n",
    "else:\n",
    "    input_path = \"../../resources/copenhagen.geojson\"\n",
    "    output_path = \"../../results/hexagons.gpkg\"\n",
    "    projection = \"EPSG:25832\"\n",
    "    hexagon_size = 500"
   ]
  },
  {
   "cell_type": "code",
   "execution_count": 34,
   "metadata": {},
   "outputs": [],
   "source": [
    "# Load area\n",
    "df_area = gpd.read_file(input_path).to_crs(projection)"
   ]
  },
  {
   "cell_type": "code",
   "execution_count": 35,
   "metadata": {},
   "outputs": [],
   "source": [
    "# Construct hexagons\n",
    "xmin, ymin, xmax, ymax = df_area.total_bounds\n",
    "\n",
    "a = np.sin(np.pi / 3)\n",
    "cols = np.arange(np.floor(xmin), np.ceil(xmax), 3 * hexagon_size)\n",
    "rows = np.arange(np.floor(ymin) / a, np.ceil(ymax) / a, hexagon_size)\n",
    "\n",
    "hexagons = []\n",
    "for x in cols:\n",
    "    for i, y in enumerate(rows):\n",
    "        if i % 2 == 0:\n",
    "            x0 = x\n",
    "        else:\n",
    "            x0 = x + 1.5 * hexagon_size\n",
    "\n",
    "        hexagons.append(sgeo.Polygon([\n",
    "            (x0, y * a),\n",
    "            (x0 + hexagon_size, y * a),\n",
    "            (x0 + (1.5 * hexagon_size), (y + hexagon_size) * a),\n",
    "            (x0 + hexagon_size, (y + (2 * hexagon_size)) * a),\n",
    "            (x0, (y + (2 * hexagon_size)) * a),\n",
    "            (x0 - (0.5 * hexagon_size), (y + hexagon_size) * a),\n",
    "        ]))\n",
    "\n",
    "df_grid = gpd.GeoDataFrame({'geometry': hexagons}, crs = projection)\n",
    "df_grid = gpd.sjoin(df_grid, df_area, predicate = \"within\")[[\"geometry\"]]\n",
    "df_grid[\"grid_id\"] = np.arange(len(df_grid))"
   ]
  },
  {
   "cell_type": "code",
   "execution_count": 36,
   "metadata": {},
   "outputs": [],
   "source": [
    "df_grid.to_file(output_path)"
   ]
  }
 ],
 "metadata": {
  "kernelspec": {
   "display_name": ".venv",
   "language": "python",
   "name": "python3"
  },
  "language_info": {
   "codemirror_mode": {
    "name": "ipython",
    "version": 3
   },
   "file_extension": ".py",
   "mimetype": "text/x-python",
   "name": "python",
   "nbconvert_exporter": "python",
   "pygments_lexer": "ipython3",
   "version": "3.12.3"
  }
 },
 "nbformat": 4,
 "nbformat_minor": 2
}
