{
 "cells": [
  {
   "cell_type": "code",
   "execution_count": 1,
   "metadata": {},
   "outputs": [],
   "source": [
    "import osmnx\n",
    "import pandas as pd\n",
    "import geopandas as gpd"
   ]
  },
  {
   "cell_type": "markdown",
   "metadata": {},
   "source": [
    "This notebook loads an osmnx network graph and maps the stops of a trajectory file to the nodes of the network."
   ]
  },
  {
   "cell_type": "code",
   "execution_count": 2,
   "metadata": {},
   "outputs": [],
   "source": [
    "if \"snakemake\" in locals():\n",
    "    trajectories_path = snakemake.input[\"trajectories\"]\n",
    "    network_path = snakemake.input[\"network\"]\n",
    "    output_path = snakemake.output[0]\n",
    "else:\n",
    "    trajectories_path = \"../../resources/operators/synthetic1/trajectories.csv\"\n",
    "    network_path = \"../../results/network/network.graphml\"\n",
    "    output_path = \"../../results/testing/stops.parquet\""
   ]
  },
  {
   "cell_type": "code",
   "execution_count": 3,
   "metadata": {},
   "outputs": [],
   "source": [
    "# Load graph\n",
    "osmnx.io._convert_bool_string = lambda x: bool(x) if not x is None else False\n",
    "graph = osmnx.load_graphml(network_path)"
   ]
  },
  {
   "cell_type": "code",
   "execution_count": 4,
   "metadata": {},
   "outputs": [],
   "source": [
    "# Process trajectories\n",
    "df_trajectories = pd.read_csv(trajectories_path)[[\"longitude\", \"latitude\"]]\n",
    "df_trajectories[\"geometry\"] = gpd.points_from_xy(df_trajectories[\"longitude\"], df_trajectories[\"latitude\"])\n",
    "df_trajectories = gpd.GeoDataFrame(df_trajectories, crs = \"EPSG:4326\")"
   ]
  },
  {
   "cell_type": "code",
   "execution_count": 5,
   "metadata": {},
   "outputs": [],
   "source": [
    "# Find the closest node\n",
    "df_trajectories[\"node\"] = osmnx.nearest_nodes(graph, \n",
    "    df_trajectories[\"geometry\"].x, df_trajectories[\"geometry\"].y)"
   ]
  },
  {
   "cell_type": "code",
   "execution_count": 8,
   "metadata": {},
   "outputs": [],
   "source": [
    "# Write nodes\n",
    "df_trajectories[[\"node\"]].to_parquet(output_path)"
   ]
  }
 ],
 "metadata": {
  "kernelspec": {
   "display_name": ".venv",
   "language": "python",
   "name": "python3"
  },
  "language_info": {
   "codemirror_mode": {
    "name": "ipython",
    "version": 3
   },
   "file_extension": ".py",
   "mimetype": "text/x-python",
   "name": "python",
   "nbconvert_exporter": "python",
   "pygments_lexer": "ipython3",
   "version": "3.12.3"
  }
 },
 "nbformat": 4,
 "nbformat_minor": 2
}
