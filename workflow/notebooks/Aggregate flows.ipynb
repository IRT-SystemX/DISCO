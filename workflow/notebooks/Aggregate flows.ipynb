{
 "cells": [
  {
   "cell_type": "code",
   "execution_count": null,
   "metadata": {},
   "outputs": [],
   "source": [
    "import pandas as pd"
   ]
  },
  {
   "cell_type": "markdown",
   "metadata": {},
   "source": [
    "This notebook aggregates the link flows for a specific operator."
   ]
  },
  {
   "cell_type": "code",
   "execution_count": null,
   "metadata": {},
   "outputs": [],
   "source": [
    "if \"snakemake\" in locals():\n",
    "    routes_path = snakemake.input[0]\n",
    "    output_path = snakemake.output[0]\n",
    "else:\n",
    "    routes_paths = \"../../results/operators/synthetic1/routes.parquet\"\n",
    "    output_path = \"../../results/operators/synthetic1/flow.gpkg\""
   ]
  },
  {
   "cell_type": "code",
   "execution_count": null,
   "metadata": {},
   "outputs": [],
   "source": [
    "# Aggregate link flows\n",
    "flow = {}\n",
    "\n",
    "df_routes = pd.read_parquet(routes_path)\n",
    "weight = 1.0 / len(df_routes[\"date\"].unique())\n",
    "\n",
    "for index, row in df_routes.iterrows():\n",
    "    route = row[\"route\"]\n",
    "\n",
    "    for origin, destination in zip(route[:-1], route[1:]):\n",
    "        if not (origin, destination) in flow:\n",
    "            flow[(origin, destination)] = 0.0\n",
    "\n",
    "        flow[((origin, destination))] += weight"
   ]
  },
  {
   "cell_type": "code",
   "execution_count": 30,
   "metadata": {},
   "outputs": [],
   "source": [
    "# Convert to data frame\n",
    "df_flow = [(key[0], key[1], value) for key, value in flow.items()]\n",
    "df_flow = pd.DataFrame(df_flow, columns = [\"origin\", \"destination\", \"flow\"])"
   ]
  },
  {
   "cell_type": "code",
   "execution_count": null,
   "metadata": {},
   "outputs": [],
   "source": [
    "# Output\n",
    "df_flow.to_parquet(output_path)"
   ]
  }
 ],
 "metadata": {
  "kernelspec": {
   "display_name": ".venv",
   "language": "python",
   "name": "python3"
  },
  "language_info": {
   "codemirror_mode": {
    "name": "ipython",
    "version": 3
   },
   "file_extension": ".py",
   "mimetype": "text/x-python",
   "name": "python",
   "nbconvert_exporter": "python",
   "pygments_lexer": "ipython3",
   "version": "3.12.3"
  }
 },
 "nbformat": 4,
 "nbformat_minor": 2
}
