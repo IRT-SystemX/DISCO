{
 "cells": [
  {
   "cell_type": "code",
   "execution_count": 1,
   "metadata": {},
   "outputs": [],
   "source": [
    "import pyrosm\n",
    "import osmnx"
   ]
  },
  {
   "cell_type": "markdown",
   "metadata": {},
   "source": [
    "This network loads a network in OSM format and converts it into a routable graph using osmnx."
   ]
  },
  {
   "cell_type": "code",
   "execution_count": 3,
   "metadata": {},
   "outputs": [],
   "source": [
    "if \"snakemake\" in locals():\n",
    "    input_path = snakemake.input[0]\n",
    "    output_path = snakemake.output[0]\n",
    "else:\n",
    "    input_path = \"../../results/osm/filtered.osm.pbf\"\n",
    "    output_path = \"../../results/network/network.graphml\""
   ]
  },
  {
   "cell_type": "code",
   "execution_count": 11,
   "metadata": {},
   "outputs": [],
   "source": [
    "# Load OpenStreetMap data\n",
    "osm = pyrosm.OSM(input_path)\n",
    "\n",
    "# Extract nodes and edges from the road network\n",
    "nodes, edges = osm.get_network(nodes = True, network_type = \"driving\")\n",
    "\n",
    "# Convert the data into a graph that can be used with the networkx library\n",
    "graph = osm.to_graph(nodes, edges, graph_type = \"networkx\")"
   ]
  },
  {
   "cell_type": "code",
   "execution_count": 15,
   "metadata": {},
   "outputs": [
    {
     "name": "stdout",
     "output_type": "stream",
     "text": [
      "(25981317, 10845990327, {'access': None, 'area': None, 'bicycle': None, 'bicycle_road': None, 'bridge': None, 'busway': None, 'cycleway': None, 'foot': None, 'footway': None, 'highway': 'residential', 'int_ref': None, 'junction': None, 'lanes': None, 'lit': 'yes', 'maxspeed': '50', 'motorcar': None, 'motorroad': None, 'motor_vehicle': None, 'name': 'Fruebjergvej', 'oneway': None, 'overtaking': None, 'psv': None, 'ref': None, 'service': None, 'segregated': None, 'sidewalk': None, 'smoothness': None, 'surface': 'asphalt', 'tracktype': None, 'tunnel': None, 'turn': None, 'width': '8', 'osmid': 2796, 'timestamp': 1684753605, 'version': 19, 'tags': '{\"visible\":false,\"cycleway:both\":\"no\",\"lane_markings\":\"no\",\"sidewalk:both\":\"separate\",\"source:maxspeed\":\"DK:urban\",\"source:width\":\"ARCore\"}', 'osm_type': 'way', 'geometry': <LINESTRING (12.549 55.716, 12.549 55.716)>, 'u': 25981317, 'v': 10845990327, 'length': 5.403, 'key': 0})\n"
     ]
    }
   ],
   "source": [
    "for e in graph.edges(data = True):\n",
    "    print(e)\n",
    "    break"
   ]
  },
  {
   "cell_type": "code",
   "execution_count": 6,
   "metadata": {},
   "outputs": [
    {
     "data": {
      "text/plain": [
       "<networkx.classes.multidigraph.MultiDiGraph at 0x713a3e3bddc0>"
      ]
     },
     "execution_count": 6,
     "metadata": {},
     "output_type": "execute_result"
    }
   ],
   "source": [
    "# Add best-guess link speeds and travel times\n",
    "osmnx.add_edge_speeds(graph)\n",
    "osmnx.add_edge_travel_times(graph)"
   ]
  },
  {
   "cell_type": "code",
   "execution_count": 7,
   "metadata": {},
   "outputs": [],
   "source": [
    "# Save graph\n",
    "osmnx.save_graphml(graph, output_path)"
   ]
  }
 ],
 "metadata": {
  "kernelspec": {
   "display_name": ".venv",
   "language": "python",
   "name": "python3"
  },
  "language_info": {
   "codemirror_mode": {
    "name": "ipython",
    "version": 3
   },
   "file_extension": ".py",
   "mimetype": "text/x-python",
   "name": "python",
   "nbconvert_exporter": "python",
   "pygments_lexer": "ipython3",
   "version": "3.12.3"
  }
 },
 "nbformat": 4,
 "nbformat_minor": 2
}
