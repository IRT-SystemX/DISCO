{
 "cells": [
  {
   "cell_type": "code",
   "execution_count": null,
   "metadata": {},
   "outputs": [],
   "source": [
    "import osmnx\n",
    "import pandas as pd"
   ]
  },
  {
   "cell_type": "markdown",
   "metadata": {},
   "source": [
    "This notebook takes vehicle trajectories and routes them on the network finding the shortest path."
   ]
  },
  {
   "cell_type": "code",
   "execution_count": 2,
   "metadata": {},
   "outputs": [],
   "source": [
    "if \"snakemake\" in locals():\n",
    "    trajectories_path = snakemake.input[\"trajectories\"]\n",
    "    nodes_path = snakemake.input[\"nodes\"]\n",
    "    network_path = snakemake.input[\"network\"]\n",
    "    output_path = snakemake.output[0]\n",
    "else:\n",
    "    trajectories_path = \"../../resources/operators/synthetic1/trajectories.csv\"\n",
    "    nodes_path = \"../../results/operators/synthetic1/nodes.parquet\"\n",
    "    network_path = \"../../results/network/network.graphml\"\n",
    "    output_path = \"../../results/operators/synthetic1/routes.parquet\""
   ]
  },
  {
   "cell_type": "code",
   "execution_count": 3,
   "metadata": {},
   "outputs": [],
   "source": [
    "# Load graph\n",
    "osmnx.io._convert_bool_string = lambda x: bool(x) if not x is None else False\n",
    "graph = osmnx.load_graphml(network_path)"
   ]
  },
  {
   "cell_type": "code",
   "execution_count": 4,
   "metadata": {},
   "outputs": [],
   "source": [
    "# Load trajectories\n",
    "df_trajectories = pd.read_csv(trajectories_path)[[\"vehicle_id\", \"date\"]]\n",
    "\n",
    "# Load nodes\n",
    "df_nodes = pd.read_parquet(nodes_path)\n",
    "\n",
    "# Merge\n",
    "df_trajectories[\"node\"] = df_nodes[\"node\"].values"
   ]
  },
  {
   "cell_type": "code",
   "execution_count": 5,
   "metadata": {},
   "outputs": [],
   "source": [
    "# Convert stop sequences into route segments per row\n",
    "df_routes = []\n",
    "\n",
    "for index, df_group in df_trajectories.groupby([\"vehicle_id\", \"date\"]):\n",
    "    vehicle_id, date = index\n",
    "\n",
    "    df_routes.append(pd.DataFrame({\n",
    "        \"vehicle_id\": vehicle_id, \"date\": date,\n",
    "        \"origin\": df_group[\"node\"].values[:-1],\n",
    "        \"destination\": df_group[\"node\"].values[1:],\n",
    "    }))\n",
    "\n",
    "df_routes = pd.concat(df_routes)"
   ]
  },
  {
   "cell_type": "code",
   "execution_count": 7,
   "metadata": {},
   "outputs": [],
   "source": [
    "# Route unique relations\n",
    "df_relations = df_routes[[\"origin\", \"destination\"]].drop_duplicates()\n",
    "\n",
    "df_relations[\"route\"] = osmnx.shortest_path(graph, \n",
    "    df_relations[\"origin\"], df_relations[\"destination\"], weight = \"travel_time\")"
   ]
  },
  {
   "cell_type": "code",
   "execution_count": 8,
   "metadata": {},
   "outputs": [],
   "source": [
    "# Merge back onto the routes\n",
    "df_routes = pd.merge(df_routes, df_relations, on = [\"origin\", \"destination\"])"
   ]
  },
  {
   "cell_type": "code",
   "execution_count": 9,
   "metadata": {},
   "outputs": [],
   "source": [
    "# Output\n",
    "df_routes.to_parquet(output_path)"
   ]
  }
 ],
 "metadata": {
  "kernelspec": {
   "display_name": ".venv",
   "language": "python",
   "name": "python3"
  },
  "language_info": {
   "codemirror_mode": {
    "name": "ipython",
    "version": 3
   },
   "file_extension": ".py",
   "mimetype": "text/x-python",
   "name": "python",
   "nbconvert_exporter": "python",
   "pygments_lexer": "ipython3",
   "version": "3.12.3"
  }
 },
 "nbformat": 4,
 "nbformat_minor": 2
}
