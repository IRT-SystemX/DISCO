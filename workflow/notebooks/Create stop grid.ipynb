{
 "cells": [
  {
   "cell_type": "code",
   "execution_count": 26,
   "metadata": {},
   "outputs": [],
   "source": [
    "import pandas as pd\n",
    "import geopandas as gpd"
   ]
  },
  {
   "cell_type": "markdown",
   "metadata": {},
   "source": [
    "This notebook aggregates the stops of the operators on a given grid."
   ]
  },
  {
   "cell_type": "code",
   "execution_count": 27,
   "metadata": {},
   "outputs": [],
   "source": [
    "if \"snakemake\" in locals():\n",
    "    grid_path = snakemake.input[0]\n",
    "    trajectories_paths = snakemake.input[1:]\n",
    "    output_path = snakemake.output[0]\n",
    "else:\n",
    "    grid_path = \"../../results/hexagons.gpkg\"\n",
    "    trajectories_paths = [\"../../resources/operators/synthetic1/trajectories.csv\"]\n",
    "    output_path = \"../../results/aggregation/stops.gpkg\""
   ]
  },
  {
   "cell_type": "code",
   "execution_count": 28,
   "metadata": {},
   "outputs": [],
   "source": [
    "# Load grid\n",
    "df_grid = gpd.read_file(grid_path)"
   ]
  },
  {
   "cell_type": "code",
   "execution_count": 29,
   "metadata": {},
   "outputs": [],
   "source": [
    "# Count stops\n",
    "df_stops = []\n",
    "\n",
    "for path in trajectories_paths:\n",
    "    df_operator = pd.read_csv(path)[[\"date\", \"longitude\", \"latitude\"]]\n",
    "    df_operator[\"geometry\"] = gpd.points_from_xy(x = df_operator[\"longitude\"], y = df_operator[\"latitude\"])\n",
    "    df_operator = gpd.GeoDataFrame(df_operator, crs = \"EPSG:4326\").to_crs(df_grid.crs)\n",
    "\n",
    "    df_count = gpd.sjoin(df_operator, df_grid, predicate = \"within\")\n",
    "    df_count = df_count.groupby(\"grid_id\").size().reset_index(name = \"stops\")\n",
    "\n",
    "    weight = 1.0 / len(df_operator[\"date\"].unique())\n",
    "    df_count[\"stops\"] *= weight\n",
    "\n",
    "    df_stops.append(df_count)\n",
    "\n",
    "df_stops = pd.concat(df_stops).groupby(\"grid_id\")[\"stops\"].sum().reset_index()"
   ]
  },
  {
   "cell_type": "code",
   "execution_count": 30,
   "metadata": {},
   "outputs": [],
   "source": [
    "# Merge with grid\n",
    "df_grid = pd.merge(df_grid, df_stops, on = \"grid_id\", how = \"left\")\n",
    "df_grid[\"stops\"] = df_grid[\"stops\"].fillna(0.0)"
   ]
  },
  {
   "cell_type": "code",
   "execution_count": null,
   "metadata": {},
   "outputs": [],
   "source": [
    "# Output\n",
    "df_grid[[\"stops\", \"geometry\"]].to_crs(\"EPSG:4326\").to_file(output_path)"
   ]
  }
 ],
 "metadata": {
  "kernelspec": {
   "display_name": ".venv",
   "language": "python",
   "name": "python3"
  },
  "language_info": {
   "codemirror_mode": {
    "name": "ipython",
    "version": 3
   },
   "file_extension": ".py",
   "mimetype": "text/x-python",
   "name": "python",
   "nbconvert_exporter": "python",
   "pygments_lexer": "ipython3",
   "version": "3.12.3"
  }
 },
 "nbformat": 4,
 "nbformat_minor": 2
}
